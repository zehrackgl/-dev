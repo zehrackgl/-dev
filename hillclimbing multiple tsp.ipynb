{
 "cells": [
  {
   "cell_type": "code",
   "execution_count": 1,
   "metadata": {
    "collapsed": true,
    "jupyter": {
     "outputs_hidden": true
    },
    "tags": []
   },
   "outputs": [],
   "source": [
    "import numpy as np\n",
    "import copy\n",
    "from tqdm import tqdm"
   ]
  },
  {
   "cell_type": "code",
   "execution_count": 2,
   "metadata": {
    "collapsed": true,
    "jupyter": {
     "outputs_hidden": true
    },
    "tags": []
   },
   "outputs": [],
   "source": [
    "# Load the graph problem from a .tsp.txt file\n",
    "data = np.loadtxt('data/eil51.tsp.txt', usecols=[1,2])"
   ]
  },
  {
   "cell_type": "code",
   "execution_count": 3,
   "metadata": {
    "collapsed": true,
    "jupyter": {
     "outputs_hidden": true
    },
    "tags": []
   },
   "outputs": [],
   "source": [
    "# Helper function to convert the coordinates into an adjacency matrix\n",
    "def coordinates_to_adjacency_matrix(data):\n",
    "    a = np.zeros((len(data),len(data)))\n",
    "    for i in range(len(a)):\n",
    "        for j in range(len(a)):\n",
    "            if not i == j:\n",
    "                a[i][j] = np.linalg.norm(data[i] - data[j])\n",
    "    return a"
   ]
  },
  {
   "cell_type": "code",
   "execution_count": 4,
   "metadata": {
    "collapsed": true,
    "jupyter": {
     "outputs_hidden": true
    },
    "tags": []
   },
   "outputs": [],
   "source": [
    "class Chromosome():\n",
    "    \n",
    "    # Random generated Chromosome\n",
    "    #  m - number of traveling salesmans\n",
    "    def __init__(self, number_of_cities, number_of_traveling_salesman, adj = coordinates_to_adjacency_matrix(data)):\n",
    "        self.n = number_of_cities\n",
    "        self.m = number_of_traveling_salesman\n",
    "        self.adj = adj\n",
    "        c = np.array(range(1,number_of_cities))\n",
    "        np.random.shuffle(c)\n",
    "        self.solution = np.array_split(c, self.m)\n",
    "        for i in range(len(self.solution)):\n",
    "            self.solution[i] = np.insert(self.solution[i],0,0)\n",
    "            self.solution[i] = np.append(self.solution[i],0)\n",
    "        self.fitness()\n",
    "            \n",
    "    # Evaluate the Chromosome - Fitness function\n",
    "    #  based on 2 features: \n",
    "    #   - overall cost (cumulated from all salesman)\n",
    "    #   - worst (longest) salesman cost\n",
    "    #  adj - adjacency matrix\n",
    "    def fitness(self):\n",
    "        self.cost = 0\n",
    "        longest_salesman_fitness = []\n",
    "        longest_salesman_length = 0\n",
    "        for i in range(self.m):\n",
    "            salesman = self.solution[i]\n",
    "            salesman_fitness = 0\n",
    "            for j in range(len(salesman) - 1):\n",
    "                salesman_fitness = salesman_fitness + self.adj[salesman[j]][salesman[j+1]]\n",
    "            self.cost = self.cost + salesman_fitness\n",
    "            if len(salesman) > longest_salesman_length or (len(salesman) == longest_salesman_length and salesman_fitness > self.minmax):\n",
    "                longest_salesman_length = len(salesman)\n",
    "                self.minmax = salesman_fitness\n",
    "        self.score = self.cost + self.minmax\n",
    "    \n",
    "    # Mutation operator - mutates a single Traveling Salesman\n",
    "    #  by swaping 2 cities\n",
    "    def mutate_local(self):\n",
    "        index = np.random.randint(0,self.m)\n",
    "        mutant = self.solution[index]\n",
    "        i,j = np.random.randint(1,len(mutant)-1), np.random.randint(1,len(mutant)-1)\n",
    "        mutant[i], mutant[j] = mutant[j], mutant[i]\n",
    "        old_cost = self.cost\n",
    "        self.fitness()\n",
    "    \n",
    "    # Mutation operator - mutates 2 Traveling Salesmans\n",
    "    #  by removing a city from a salesman and asigning it to the second one\n",
    "    def mutate_global(self):\n",
    "        for i in range(self.m):\n",
    "            if len(self.solution[i]) < 3:\n",
    "                print(i, self.solution[i])\n",
    "        \n",
    "        \n",
    "        index1, index2 = np.random.randint(0,self.m), np.random.randint(0,self.m)\n",
    "        while index1 == index2:\n",
    "            index1, index2 = np.random.randint(0,self.m), np.random.randint(0,self.m)\n",
    "        while len(self.solution[index1]) < 4:\n",
    "            index1, index2 = np.random.randint(0,self.m), np.random.randint(0,self.m)\n",
    "        mutant1, mutant2 = self.solution[index1], self.solution[index2]\n",
    "        i,j = np.random.randint(1,len(mutant1)-1), np.random.randint(1,len(mutant2)-1)\n",
    "        self.solution[index2] = np.insert(mutant2, j, mutant1[i])\n",
    "        self.solution[index1] = np.delete(mutant1, i)\n",
    "        old_cost = self.cost\n",
    "        self.fitness()\n",
    "    "
   ]
  },
  {
   "cell_type": "code",
   "execution_count": 5,
   "metadata": {
    "tags": []
   },
   "outputs": [
    {
     "name": "stderr",
     "output_type": "stream",
     "text": [
      "100%|██████████| 100000/100000 [00:14<00:00, 7084.33it/s]\n"
     ]
    }
   ],
   "source": [
    "chromosome = Chromosome(number_of_cities = 51, number_of_traveling_salesman = 2)\n",
    "for it in tqdm(range(100000)):\n",
    "    # Mutate globally\n",
    "    chromosome_copy = copy.deepcopy(chromosome)\n",
    "    chromosome_copy.mutate_global()\n",
    "    if chromosome_copy.score < chromosome.score:\n",
    "        chromosome = chromosome_copy\n",
    "    # Mutate locally\n",
    "    chromosome_copy = copy.deepcopy(chromosome)\n",
    "    chromosome_copy.mutate_local()\n",
    "    if chromosome_copy.score < chromosome.score:\n",
    "        chromosome = chromosome_copy"
   ]
  },
  {
   "cell_type": "code",
   "execution_count": 6,
   "metadata": {
    "tags": []
   },
   "outputs": [
    {
     "name": "stdout",
     "output_type": "stream",
     "text": [
      "1:  1-22-2-16-38-11-46-51-6-14-25-13-4-47-12-17-37-5-49-9-50-21-29-20-35-36-3-1 --- # 28\n",
      "2:  1-32-27-24-43-23-7-26-31-28-8-48-18-41-40-19-42-44-15-45-33-39-10-30-34-1 --- # 26\n",
      "\n",
      "Cost:  531.4278129253838\n",
      "Minmax:  240.7893263145985\n"
     ]
    }
   ],
   "source": [
    "# Print best solution\n",
    "for i in range(chromosome.m):\n",
    "    print(i+1, \":  \", chromosome.solution[i][0]+1, end=\"\", sep=\"\")\n",
    "    for j in range(1,len(chromosome.solution[i])):\n",
    "        print(\"-\", chromosome.solution[i][j]+1, end=\"\", sep=\"\")\n",
    "    print(\" --- #\", len(chromosome.solution[i]))\n",
    "print()\n",
    "\n",
    "# Print cost\n",
    "print(\"Cost: \", chromosome.cost)\n",
    "print(\"Minmax: \", chromosome.minmax)"
   ]
  },
  {
   "cell_type": "code",
   "execution_count": null,
   "metadata": {},
   "outputs": [],
   "source": []
  }
 ],
 "metadata": {
  "kernelspec": {
   "display_name": "Python 3 (ipykernel)",
   "language": "python",
   "name": "python3"
  },
  "language_info": {
   "codemirror_mode": {
    "name": "ipython",
    "version": 3
   },
   "file_extension": ".py",
   "mimetype": "text/x-python",
   "name": "python",
   "nbconvert_exporter": "python",
   "pygments_lexer": "ipython3",
   "version": "3.11.5"
  }
 },
 "nbformat": 4,
 "nbformat_minor": 4
}
